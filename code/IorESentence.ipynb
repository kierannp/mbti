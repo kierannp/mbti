{
 "cells": [
  {
   "cell_type": "code",
   "execution_count": 1,
   "metadata": {},
   "outputs": [],
   "source": [
    "import pandas as pd\n",
    "from sklearn.model_selection import train_test_split\n",
    "import numpy as np\n",
    "import re\n",
    "import tensorflow as tf\n",
    "from tensorflow.keras.models import Sequential\n",
    "import tensorflow.keras.layers as layers\n",
    "from tensorflow.keras import Input\n",
    "import tensorflow_hub as hub\n",
    "from nltk.corpus import stopwords"
   ]
  },
  {
   "cell_type": "code",
   "execution_count": 2,
   "metadata": {},
   "outputs": [],
   "source": [
    "module_url = \"https://tfhub.dev/google/universal-sentence-encoder/4\"\n",
    "embedding_model = hub.load(module_url)\n",
    "def embed(input):\n",
    "    return embedding_model(input)"
   ]
  },
  {
   "cell_type": "code",
   "execution_count": 3,
   "metadata": {},
   "outputs": [],
   "source": [
    "original_data = pd.read_csv(\"data/mbti_1.csv\")\n",
    "stop_words = stopwords.words('english')\n",
    "number_of_posts = 5\n",
    "\n",
    "def remove_links_and_embed(post):\n",
    "    post = post.lower()\n",
    "    post = post.split()\n",
    "    post = [p.strip() for p in post]\n",
    "    post = [w for w in post if w not in stop_words]\n",
    "    sample = post[:number_of_posts]\n",
    "    return embed(sample).numpy()\n",
    "#     return embed([re.sub(\"(?P<url>https?://[^\\s]+)\", '', post).lower().strip() for post in posts.split('|||')])\n",
    "\n",
    "def make_types_E_vs_I(types):\n",
    "    return (0 if 'E' in types else 1)\n",
    "\n",
    "original_data['posts'] = original_data['posts'].apply(remove_links_and_embed)\n",
    "original_data['type'] = original_data['type'].apply(make_types_E_vs_I)\n",
    "\n",
    "types = pd.unique(original_data['type'])\n",
    "code = {tp:i for i,tp in enumerate(types)}\n",
    "rev_code  = {i:tp for i,tp in enumerate(types)}\n",
    "\n",
    "for i,person in enumerate(original_data['posts'].values):\n",
    "    if person.shape != (5,512):\n",
    "        original_data = original_data.drop([i])"
   ]
  },
  {
   "cell_type": "code",
   "execution_count": 95,
   "metadata": {},
   "outputs": [],
   "source": [
    "texts_train, texts_test, labels_train, labels_test = train_test_split(np.stack(original_data['posts'].values).reshape(8674,512,5), np.stack(original_data['type'].values), train_size=0.7, random_state=123)"
   ]
  },
  {
   "cell_type": "code",
   "execution_count": 113,
   "metadata": {},
   "outputs": [
    {
     "name": "stdout",
     "output_type": "stream",
     "text": [
      "[[-0.03862193 -0.05570186 -0.00947765  0.02606708 -0.00523267]\n",
      " [ 0.06542242 -0.01833252 -0.06722698  0.00601519  0.08119543]\n",
      " [ 0.03176207  0.01511295 -0.00051053 -0.00011399  0.00519196]\n",
      " ...\n",
      " [-0.05420309 -0.00373369 -0.05336116  0.04266287 -0.02569582]\n",
      " [ 0.03040633 -0.08684034  0.04044287 -0.01790301  0.02049469]\n",
      " [-0.03231712 -0.01611626 -0.07046355 -0.04581322 -0.00447022]]\n"
     ]
    },
    {
     "data": {
      "text/plain": [
       "array([-0.03862193, -0.05570186, -0.00947765,  0.02606708, -0.00523267],\n",
       "      dtype=float32)"
      ]
     },
     "execution_count": 113,
     "metadata": {},
     "output_type": "execute_result"
    }
   ],
   "source": [
    "print(np.stack(original_data['posts'].values).reshape(8674,512,5)[0])\n",
    "np.reshape(np.stack(original_data['posts'].values), (8674*5,512))[0][:5]"
   ]
  },
  {
   "cell_type": "code",
   "execution_count": 96,
   "metadata": {},
   "outputs": [
    {
     "name": "stdout",
     "output_type": "stream",
     "text": [
      "Epoch 1/5\n",
      "152/152 [==============================] - 227s 1s/step - loss: 0.5573 - accuracy: 0.7536 - auc: 0.5343 - val_loss: 0.5391 - val_accuracy: 0.7695 - val_auc: 0.5550\n",
      "Epoch 2/5\n",
      "152/152 [==============================] - 233s 1s/step - loss: 0.5240 - accuracy: 0.7728 - auc: 0.6036 - val_loss: 0.5445 - val_accuracy: 0.7695 - val_auc: 0.5332\n",
      "Epoch 3/5\n",
      "152/152 [==============================] - 226s 1s/step - loss: 0.5067 - accuracy: 0.7736 - auc: 0.6692 - val_loss: 0.5536 - val_accuracy: 0.7663 - val_auc: 0.5279\n",
      "Epoch 4/5\n",
      "152/152 [==============================] - 217s 1s/step - loss: 0.4951 - accuracy: 0.7761 - auc: 0.7002 - val_loss: 0.5608 - val_accuracy: 0.7572 - val_auc: 0.5258\n",
      "Epoch 5/5\n",
      "152/152 [==============================] - 223s 1s/step - loss: 0.5001 - accuracy: 0.7690 - auc: 0.7088 - val_loss: 0.5841 - val_accuracy: 0.7613 - val_auc: 0.5325\n"
     ]
    }
   ],
   "source": [
    "embedding_dim = 512\n",
    "\n",
    "inputs = tf.keras.Input(shape=(embedding_dim,5))\n",
    "a\n",
    "gru = tf.keras.layers.Bidirectional(\n",
    "    tf.keras.layers.GRU(\n",
    "        units=64,\n",
    "        return_sequences=True\n",
    "    )\n",
    ")(inputs)\n",
    "\n",
    "flatten = tf.keras.layers.Flatten()(gru)\n",
    "\n",
    "outputs = tf.keras.layers.Dense(1, activation='sigmoid')(flatten)\n",
    "\n",
    "\n",
    "model = tf.keras.Model(inputs, outputs)\n",
    "\n",
    "\n",
    "model.compile(\n",
    "    optimizer='adam',\n",
    "    loss='binary_crossentropy',\n",
    "    metrics=[\n",
    "        'accuracy',\n",
    "        tf.keras.metrics.AUC(name='auc')\n",
    "    ]\n",
    ")\n",
    "\n",
    "\n",
    "history = model.fit(\n",
    "    texts_train,\n",
    "    labels_train,\n",
    "    validation_split=0.2,\n",
    "    batch_size=32,\n",
    "    epochs=5,\n",
    "    callbacks=[\n",
    "        tf.keras.callbacks.ModelCheckpoint('./model.h5', save_best_only=True, save_weights_only=True)\n",
    "    ]\n",
    ")\n"
   ]
  },
  {
   "cell_type": "code",
   "execution_count": null,
   "metadata": {},
   "outputs": [],
   "source": []
  }
 ],
 "metadata": {
  "kernelspec": {
   "display_name": "Python 3",
   "language": "python",
   "name": "python3"
  },
  "language_info": {
   "codemirror_mode": {
    "name": "ipython",
    "version": 3
   },
   "file_extension": ".py",
   "mimetype": "text/x-python",
   "name": "python",
   "nbconvert_exporter": "python",
   "pygments_lexer": "ipython3",
   "version": "3.8.6"
  }
 },
 "nbformat": 4,
 "nbformat_minor": 4
}
