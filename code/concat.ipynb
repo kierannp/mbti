{
 "cells": [
  {
   "cell_type": "code",
   "execution_count": 5,
   "metadata": {},
   "outputs": [],
   "source": [
    "import pandas as pd\n",
    "from sklearn.model_selection import train_test_split\n",
    "import numpy as np\n",
    "from sklearn.preprocessing import LabelEncoder\n",
    "from sklearn.preprocessing import OneHotEncoder\n",
    "import re\n",
    "import tensorflow as tf\n",
    "from tensorflow.keras.models import Sequential\n",
    "import tensorflow.keras.layers as layers\n",
    "from tensorflow.keras import Input\n",
    "from absl import logging\n",
    "import tensorflow_hub as hub\n",
    "import matplotlib.pyplot as plt\n",
    "import urllib\n",
    "from custom_gen import DataGenerator\n",
    "import glob\n",
    "import json"
   ]
  },
  {
   "cell_type": "code",
   "execution_count": 6,
   "metadata": {},
   "outputs": [],
   "source": [
    "module_url = \"https://tfhub.dev/google/universal-sentence-encoder/4\"\n",
    "embedding_model = hub.load(module_url)\n",
    "def embed(input):\n",
    "  return embedding_model(input)\n",
    "original_data = pd.read_csv(\"data/mbti_1.csv\")"
   ]
  },
  {
   "cell_type": "code",
   "execution_count": 7,
   "metadata": {},
   "outputs": [],
   "source": [
    "imgs = {i:[] for i in range(original_data.shape[0])}\n",
    "\n",
    "for i, person in enumerate(original_data['posts']):\n",
    "    urls_person = [re.findall(\"(?P<url>https?://[^\\s]+)\", post) for post in person.split('|||')]\n",
    "    original_data['posts'].iloc[i] = [re.sub(\"(?P<url>https?://[^\\s]+)\", '', post) for post in person.split('|||')]\n",
    "    urls_clean = []\n",
    "    for url in urls_person: \n",
    "        if url:\n",
    "            urls_clean.append(url[0])\n",
    "    for url in urls_clean:\n",
    "        if (\".jpg\" in url) or (\".png\" in url):\n",
    "            imgs[i].append(url)"
   ]
  },
  {
   "cell_type": "code",
   "execution_count": 9,
   "metadata": {},
   "outputs": [
    {
     "name": "stdout",
     "output_type": "stream",
     "text": [
      "2423\n"
     ]
    }
   ],
   "source": [
    "total = []\n",
    "for i in range(original_data.shape[0]):\n",
    "    if len(imgs[i])!=0:\n",
    "        total.append(i)\n",
    "print(len(total))"
   ]
  },
  {
   "cell_type": "code",
   "execution_count": 4,
   "metadata": {},
   "outputs": [],
   "source": [
    "original_data = pd.read_csv(\"data/mbti_1.csv\")\n",
    "def remove_links_and_embed(posts):\n",
    "    return embed([re.sub(\"(?P<url>https?://[^\\s]+)\", '', post) for post in posts.split('|||')]).numpy()\n",
    "\n",
    "original_data['posts'] = original_data['posts'].apply(remove_links_and_embed)\n",
    "\n",
    "code = {tp:i for i,tp in enumerate(pd.unique(original_data['type']))}\n",
    "rev_code  = {i:tp for i,tp in enumerate(pd.unique(original_data['type']))}"
   ]
  },
  {
   "cell_type": "code",
   "execution_count": 7,
   "metadata": {},
   "outputs": [
    {
     "data": {
      "text/plain": [
       "array([[-0.03565682, -0.03319573,  0.0704743 , ..., -0.0636081 ,\n",
       "        -0.02079295, -0.02250968],\n",
       "       [-0.03565682, -0.03319573,  0.0704743 , ..., -0.0636081 ,\n",
       "        -0.02079295, -0.02250968],\n",
       "       [-0.05830672,  0.00682049, -0.05866492, ...,  0.01276692,\n",
       "        -0.00112303, -0.06254279],\n",
       "       ...,\n",
       "       [ 0.04250416, -0.08287645, -0.0163145 , ..., -0.01025333,\n",
       "        -0.0569249 ,  0.01330812],\n",
       "       [ 0.05174695,  0.00672889, -0.06231392, ...,  0.06926323,\n",
       "         0.04425861, -0.07807797],\n",
       "       [ 0.03404305, -0.07008429, -0.03211437, ..., -0.00176   ,\n",
       "         0.03975417, -0.04023048]], dtype=float32)"
      ]
     },
     "execution_count": 7,
     "metadata": {},
     "output_type": "execute_result"
    }
   ],
   "source": [
    "original_data['posts'].head()[0]"
   ]
  },
  {
   "cell_type": "code",
   "execution_count": 5,
   "metadata": {},
   "outputs": [
    {
     "data": {
      "text/html": [
       "<div>\n",
       "<style scoped>\n",
       "    .dataframe tbody tr th:only-of-type {\n",
       "        vertical-align: middle;\n",
       "    }\n",
       "\n",
       "    .dataframe tbody tr th {\n",
       "        vertical-align: top;\n",
       "    }\n",
       "\n",
       "    .dataframe thead th {\n",
       "        text-align: right;\n",
       "    }\n",
       "</style>\n",
       "<table border=\"1\" class=\"dataframe\">\n",
       "  <thead>\n",
       "    <tr style=\"text-align: right;\">\n",
       "      <th></th>\n",
       "      <th>type</th>\n",
       "      <th>posts</th>\n",
       "    </tr>\n",
       "  </thead>\n",
       "  <tbody>\n",
       "    <tr>\n",
       "      <th>0</th>\n",
       "      <td>INFJ</td>\n",
       "      <td>((tf.Tensor(-0.035656825, shape=(), dtype=floa...</td>\n",
       "    </tr>\n",
       "    <tr>\n",
       "      <th>1</th>\n",
       "      <td>ENTP</td>\n",
       "      <td>((tf.Tensor(0.006778221, shape=(), dtype=float...</td>\n",
       "    </tr>\n",
       "    <tr>\n",
       "      <th>2</th>\n",
       "      <td>INTP</td>\n",
       "      <td>((tf.Tensor(-0.009484898, shape=(), dtype=floa...</td>\n",
       "    </tr>\n",
       "    <tr>\n",
       "      <th>3</th>\n",
       "      <td>INTJ</td>\n",
       "      <td>((tf.Tensor(-0.009333394, shape=(), dtype=floa...</td>\n",
       "    </tr>\n",
       "    <tr>\n",
       "      <th>4</th>\n",
       "      <td>ENTJ</td>\n",
       "      <td>((tf.Tensor(-0.038833104, shape=(), dtype=floa...</td>\n",
       "    </tr>\n",
       "  </tbody>\n",
       "</table>\n",
       "</div>"
      ],
      "text/plain": [
       "   type                                              posts\n",
       "0  INFJ  ((tf.Tensor(-0.035656825, shape=(), dtype=floa...\n",
       "1  ENTP  ((tf.Tensor(0.006778221, shape=(), dtype=float...\n",
       "2  INTP  ((tf.Tensor(-0.009484898, shape=(), dtype=floa...\n",
       "3  INTJ  ((tf.Tensor(-0.009333394, shape=(), dtype=floa...\n",
       "4  ENTJ  ((tf.Tensor(-0.038833104, shape=(), dtype=floa..."
      ]
     },
     "execution_count": 5,
     "metadata": {},
     "output_type": "execute_result"
    }
   ],
   "source": [
    "original_data"
   ]
  },
  {
   "cell_type": "code",
   "execution_count": null,
   "metadata": {},
   "outputs": [],
   "source": []
  },
  {
   "cell_type": "code",
   "execution_count": null,
   "metadata": {},
   "outputs": [],
   "source": []
  },
  {
   "cell_type": "code",
   "execution_count": null,
   "metadata": {},
   "outputs": [],
   "source": [
    "vision_model = Sequential()\n",
    "vision_model.add(Conv2D(64,(3,3)),input_shape=())\n",
    "vision_model.add(MaxPooling2D())\n",
    "\n",
    "image_input = Input(shape=())\n",
    "encoded_image = vision_model(image_input)\n",
    "\n",
    "text_model = Sequential()\n",
    "text_model.add(Dense(512, input_dim=512, activation='relu'))\n",
    "text_model.add(Dropout(.5))\n",
    "text_model.add(Dense(512, activation='relu'))\n",
    "text_model.add(Dropout(.3))\n",
    "text_model.add(Dense(16, activation='softmax'))\n",
    "\n",
    "embedded_input = Input()\n",
    "text_model(embedded_input)\n",
    "\n",
    "merged = tf.layers.Concatenate([encoded_image, text_model])"
   ]
  },
  {
   "cell_type": "code",
   "execution_count": null,
   "metadata": {},
   "outputs": [],
   "source": [
    "col1 = np.zeros((data.shape[0]),dtype=str).tolist()\n",
    "max_images = 1\n",
    "for p in range(data.shape[0]):\n",
    "        try:\n",
    "            url = imgs[p][0]\n",
    "            filename = url.split('/')[-1]\n",
    "            urllib.request.urlretrieve(url,\"images/\" + filename)\n",
    "            col1[p] = filename\n",
    "        except:\n",
    "            pass"
   ]
  }
 ],
 "metadata": {
  "kernelspec": {
   "display_name": "Python 3",
   "language": "python",
   "name": "python3"
  },
  "language_info": {
   "codemirror_mode": {
    "name": "ipython",
    "version": 3
   },
   "file_extension": ".py",
   "mimetype": "text/x-python",
   "name": "python",
   "nbconvert_exporter": "python",
   "pygments_lexer": "ipython3",
   "version": "3.8.6"
  }
 },
 "nbformat": 4,
 "nbformat_minor": 4
}
