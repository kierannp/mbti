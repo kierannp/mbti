{
 "cells": [
  {
   "cell_type": "code",
   "execution_count": 2,
   "metadata": {},
   "outputs": [],
   "source": [
    "import pandas as pd\n",
    "from sklearn.model_selection import train_test_split\n",
    "import numpy as np\n",
    "import tensorflow as tf\n",
    "from tensorflow.keras.models import Sequential\n",
    "import tensorflow.keras.layers as layers\n",
    "from tensorflow.keras import Input\n",
    "from absl import logging\n",
    "import matplotlib.pyplot as plt\n",
    "import re\n",
    "import glob\n",
    "import json\n",
    "import tensorflow_hub as hub"
   ]
  },
  {
   "cell_type": "code",
   "execution_count": 3,
   "metadata": {},
   "outputs": [],
   "source": [
    "original_data = pd.read_csv(\"data/mbti_1.csv\")\n",
    "def remove_links(posts):\n",
    "    return [re.sub(\"(?P<url>https?://[^\\s]+)\", '', post) for post in posts.split('|||')]\n",
    "original_data['posts'] = original_data['posts'].apply(remove_links)\n",
    "types = pd.unique(original_data['type'])\n",
    "code = {tp:i for i,tp in enumerate(types)}\n",
    "rev_code  = {i:tp for i,tp in enumerate(types)}"
   ]
  },
  {
   "cell_type": "code",
   "execution_count": 4,
   "metadata": {},
   "outputs": [],
   "source": [
    "module_url = \"https://tfhub.dev/google/universal-sentence-encoder/4\"\n",
    "embedding_model = hub.load(module_url)\n",
    "def embed(input):\n",
    "  return embedding_model(input)"
   ]
  },
  {
   "cell_type": "code",
   "execution_count": 5,
   "metadata": {},
   "outputs": [
    {
     "data": {
      "text/html": [
       "<div>\n",
       "<style scoped>\n",
       "    .dataframe tbody tr th:only-of-type {\n",
       "        vertical-align: middle;\n",
       "    }\n",
       "\n",
       "    .dataframe tbody tr th {\n",
       "        vertical-align: top;\n",
       "    }\n",
       "\n",
       "    .dataframe thead th {\n",
       "        text-align: right;\n",
       "    }\n",
       "</style>\n",
       "<table border=\"1\" class=\"dataframe\">\n",
       "  <thead>\n",
       "    <tr style=\"text-align: right;\">\n",
       "      <th></th>\n",
       "      <th>type</th>\n",
       "      <th>posts</th>\n",
       "    </tr>\n",
       "  </thead>\n",
       "  <tbody>\n",
       "    <tr>\n",
       "      <th>0</th>\n",
       "      <td>0</td>\n",
       "      <td>[[-0.035656825, -0.033195727, 0.0704743, 0.073...</td>\n",
       "    </tr>\n",
       "    <tr>\n",
       "      <th>1</th>\n",
       "      <td>1</td>\n",
       "      <td>[[0.006778221, 0.045070868, -0.011752028, -0.0...</td>\n",
       "    </tr>\n",
       "    <tr>\n",
       "      <th>2</th>\n",
       "      <td>2</td>\n",
       "      <td>[[-0.009484898, -0.003131814, 0.0037449605, -0...</td>\n",
       "    </tr>\n",
       "    <tr>\n",
       "      <th>3</th>\n",
       "      <td>3</td>\n",
       "      <td>[[-0.009333394, -0.068066284, 0.024093557, 0.0...</td>\n",
       "    </tr>\n",
       "    <tr>\n",
       "      <th>4</th>\n",
       "      <td>4</td>\n",
       "      <td>[[-0.038833104, -0.038577285, 0.025958145, 0.0...</td>\n",
       "    </tr>\n",
       "  </tbody>\n",
       "</table>\n",
       "</div>"
      ],
      "text/plain": [
       "   type                                              posts\n",
       "0     0  [[-0.035656825, -0.033195727, 0.0704743, 0.073...\n",
       "1     1  [[0.006778221, 0.045070868, -0.011752028, -0.0...\n",
       "2     2  [[-0.009484898, -0.003131814, 0.0037449605, -0...\n",
       "3     3  [[-0.009333394, -0.068066284, 0.024093557, 0.0...\n",
       "4     4  [[-0.038833104, -0.038577285, 0.025958145, 0.0..."
      ]
     },
     "execution_count": 5,
     "metadata": {},
     "output_type": "execute_result"
    }
   ],
   "source": [
    "def embed_user_posts(posts):\n",
    "    return np.array(embed(posts))\n",
    "def convert_type(ty):\n",
    "    return code[ty]\n",
    "original_data['posts'] = original_data['posts'].apply(embed_user_posts)\n",
    "original_data['type'] = original_data['type'].apply(convert_type)\n",
    "original_data.head()"
   ]
  },
  {
   "cell_type": "code",
   "execution_count": 7,
   "metadata": {},
   "outputs": [
    {
     "data": {
      "text/plain": [
       "(7587, 2)"
      ]
     },
     "execution_count": 7,
     "metadata": {},
     "output_type": "execute_result"
    }
   ],
   "source": [
    "tmp = []\n",
    "for i, person in enumerate(original_data['posts']):\n",
    "    if person.shape != (50,512):\n",
    "        original_data = original_data.drop([i])\n",
    "original_data.shape"
   ]
  },
  {
   "cell_type": "code",
   "execution_count": 8,
   "metadata": {},
   "outputs": [],
   "source": [
    "X_train, X_test, y_train, y_test = train_test_split(np.stack(original_data['posts'].values),np.expand_dims(np.array(original_data['type']),axis=1),test_size=.1)"
   ]
  },
  {
   "cell_type": "code",
   "execution_count": 10,
   "metadata": {},
   "outputs": [
    {
     "name": "stdout",
     "output_type": "stream",
     "text": [
      "Epoch 1/15\n",
      "214/214 [==============================] - 3s 10ms/step - loss: 2.2255 - accuracy: 0.2440 - val_loss: 1.8359 - val_accuracy: 0.3663\n",
      "Epoch 2/15\n",
      "214/214 [==============================] - 2s 10ms/step - loss: 1.6561 - accuracy: 0.4304 - val_loss: 1.8667 - val_accuracy: 0.3781\n",
      "Epoch 3/15\n",
      "214/214 [==============================] - 2s 10ms/step - loss: 0.9751 - accuracy: 0.6868 - val_loss: 2.2831 - val_accuracy: 0.3689\n",
      "Epoch 4/15\n",
      "214/214 [==============================] - 2s 10ms/step - loss: 0.3810 - accuracy: 0.8788 - val_loss: 3.2467 - val_accuracy: 0.3478\n",
      "Epoch 5/15\n",
      "214/214 [==============================] - 2s 10ms/step - loss: 0.1994 - accuracy: 0.9339 - val_loss: 4.0322 - val_accuracy: 0.3386\n",
      "Epoch 6/15\n",
      "214/214 [==============================] - 2s 10ms/step - loss: 0.1789 - accuracy: 0.9424 - val_loss: 4.3821 - val_accuracy: 0.3294\n",
      "Epoch 7/15\n",
      "214/214 [==============================] - 2s 10ms/step - loss: 0.1642 - accuracy: 0.9453 - val_loss: 4.8105 - val_accuracy: 0.3254\n",
      "Epoch 8/15\n",
      "214/214 [==============================] - 2s 10ms/step - loss: 0.1451 - accuracy: 0.9545 - val_loss: 5.0788 - val_accuracy: 0.3320\n",
      "Epoch 9/15\n",
      "214/214 [==============================] - 2s 11ms/step - loss: 0.1385 - accuracy: 0.9565 - val_loss: 5.5090 - val_accuracy: 0.3004\n",
      "Epoch 10/15\n",
      "214/214 [==============================] - 2s 10ms/step - loss: 0.1131 - accuracy: 0.9656 - val_loss: 5.6887 - val_accuracy: 0.3215\n",
      "Epoch 11/15\n",
      "214/214 [==============================] - 2s 10ms/step - loss: 0.1264 - accuracy: 0.9627 - val_loss: 5.6511 - val_accuracy: 0.3373\n",
      "Epoch 12/15\n",
      "214/214 [==============================] - 2s 11ms/step - loss: 0.0986 - accuracy: 0.9705 - val_loss: 6.2823 - val_accuracy: 0.3347\n",
      "Epoch 13/15\n",
      "214/214 [==============================] - 3s 12ms/step - loss: 0.1088 - accuracy: 0.9656 - val_loss: 6.0228 - val_accuracy: 0.3241\n",
      "Epoch 14/15\n",
      "214/214 [==============================] - 2s 12ms/step - loss: 0.1121 - accuracy: 0.9689 - val_loss: 6.4315 - val_accuracy: 0.3281\n",
      "Epoch 15/15\n",
      "214/214 [==============================] - 2s 10ms/step - loss: 0.0964 - accuracy: 0.9687 - val_loss: 7.3691 - val_accuracy: 0.3188\n"
     ]
    },
    {
     "data": {
      "text/plain": [
       "<tensorflow.python.keras.callbacks.History at 0x162280670>"
      ]
     },
     "execution_count": 10,
     "metadata": {},
     "output_type": "execute_result"
    }
   ],
   "source": [
    "model = Sequential()\n",
    "model.add(layers.Conv1D(256,1,input_shape=(50,512)))\n",
    "model.add(layers.MaxPooling1D())\n",
    "model.add(layers.Flatten())\n",
    "model.add(layers.Dense(512,activation='relu'))\n",
    "model.add(layers.Dropout(.4))\n",
    "model.add(layers.Dense(512,activation='relu'))\n",
    "model.add(layers.Dropout(.2))\n",
    "model.add(layers.Dense(16,activation='softmax'))\n",
    "\n",
    "model.compile(optimizer='adam', loss='sparse_categorical_crossentropy', metrics=['accuracy'])\n",
    "\n",
    "model.fit(X_train, y_train, epochs=15,validation_data=(X_test,y_test))"
   ]
  },
  {
   "cell_type": "code",
   "execution_count": null,
   "metadata": {},
   "outputs": [],
   "source": []
  }
 ],
 "metadata": {
  "kernelspec": {
   "display_name": "Python 3",
   "language": "python",
   "name": "python3"
  },
  "language_info": {
   "codemirror_mode": {
    "name": "ipython",
    "version": 3
   },
   "file_extension": ".py",
   "mimetype": "text/x-python",
   "name": "python",
   "nbconvert_exporter": "python",
   "pygments_lexer": "ipython3",
   "version": "3.8.6"
  }
 },
 "nbformat": 4,
 "nbformat_minor": 4
}
