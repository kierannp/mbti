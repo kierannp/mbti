{
 "cells": [
  {
   "cell_type": "code",
   "execution_count": null,
   "metadata": {},
   "outputs": [],
   "source": [
    "vision_model = Sequential()\n",
    "vision_model.add(Conv2D(64,(3,3)),input_shape=())\n",
    "vision_model.add(MaxPooling2D())\n",
    "\n",
    "image_input = Input(shape=())\n",
    "encoded_image = vision_model(image_input)\n",
    "\n",
    "text_model = Sequential()\n",
    "text_model.add(Dense(512, input_dim=512, activation='relu'))\n",
    "text_model.add(Dropout(.5))\n",
    "text_model.add(Dense(512, activation='relu'))\n",
    "text_model.add(Dropout(.3))\n",
    "text_model.add(Dense(16, activation='softmax'))\n",
    "\n",
    "embedded_input = Input()\n",
    "text_model(embedded_input)\n",
    "\n",
    "merged = tf.layers.Concatenate([encoded_image, text_model])"
   ]
  },
  {
   "cell_type": "code",
   "execution_count": null,
   "metadata": {},
   "outputs": [],
   "source": [
    "col1 = np.zeros((data.shape[0]),dtype=str).tolist()\n",
    "max_images = 1\n",
    "for p in range(data.shape[0]):\n",
    "        try:\n",
    "            url = imgs[p][0]\n",
    "            filename = url.split('/')[-1]\n",
    "            urllib.request.urlretrieve(url,\"images/\" + filename)\n",
    "            col1[p] = filename\n",
    "        except:\n",
    "            pass"
   ]
  }
 ],
 "metadata": {
  "kernelspec": {
   "display_name": "Python 3",
   "language": "python",
   "name": "python3"
  },
  "language_info": {
   "codemirror_mode": {
    "name": "ipython",
    "version": 3
   },
   "file_extension": ".py",
   "mimetype": "text/x-python",
   "name": "python",
   "nbconvert_exporter": "python",
   "pygments_lexer": "ipython3",
   "version": "3.8.6"
  }
 },
 "nbformat": 4,
 "nbformat_minor": 4
}
